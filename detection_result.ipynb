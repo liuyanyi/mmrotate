{
 "cells": [
  {
   "cell_type": "markdown",
   "source": [
    "# 基于可见光遥感图像的无锚框目标检测算法研究\n",
    "\n",
    "## 检测结果展示"
   ],
   "metadata": {
    "collapsed": false,
    "pycharm": {
     "name": "#%% md\n"
    }
   }
  },
  {
   "cell_type": "code",
   "execution_count": 2,
   "outputs": [
    {
     "name": "stdout",
     "output_type": "stream",
     "text": [
      "load checkpoint from local path: ./work_dirs/ms_exp/01/epoch_12.pth\n",
      "load checkpoint from local path: ./work_dirs/ms_exp/05/epoch_12.pth\n",
      "Model Init Complete!\n"
     ]
    }
   ],
   "source": [
    "from mmdet.apis import inference_detector, init_detector, show_result_pyplot\n",
    "from mmrotate.apis import inference_detector_by_patches\n",
    "import mmrotate  # noqa: F401\n",
    "\n",
    "oafd_baseline = dict(\n",
    "    config='./work_dirs/ms_exp/01/01_oafd_r50_1x.py',\n",
    "    ckpt='./work_dirs/ms_exp/01/epoch_12.pth',\n",
    ")\n",
    "\n",
    "oafd_small = dict(\n",
    "    config='./work_dirs/ms_exp/05/05_oafd_g400_1x.py',\n",
    "    ckpt='./work_dirs/ms_exp/05/epoch_12.pth',\n",
    ")\n",
    "\n",
    "baseline_model = init_detector(oafd_baseline['config'], oafd_baseline['ckpt'], device='cuda:0')\n",
    "small_model = init_detector(oafd_small['config'], oafd_small['ckpt'], device='cuda:0')\n",
    "\n",
    "print('Model Init Complete!')\n"
   ],
   "metadata": {
    "collapsed": false,
    "pycharm": {
     "name": "#%%\n"
    }
   }
  },
  {
   "cell_type": "markdown",
   "source": [
    "## OAFD-Baseline 单图推理"
   ],
   "metadata": {
    "collapsed": false,
    "pycharm": {
     "name": "#%% md\n"
    }
   }
  },
  {
   "cell_type": "code",
   "execution_count": null,
   "outputs": [],
   "source": [
    "img = 'demo/demo.jpg'\n",
    "\n",
    "result = inference_detector(baseline_model, img)\n",
    "# show the results\n",
    "show_result_pyplot(\n",
    "    baseline_model,\n",
    "    img,\n",
    "    result,\n",
    "    palette='dota',\n",
    "    score_thr=0.3)"
   ],
   "metadata": {
    "collapsed": false,
    "pycharm": {
     "name": "#%%\n"
    }
   }
  },
  {
   "cell_type": "markdown",
   "source": [
    "## OAFD-Baseline 大图多尺度推理"
   ],
   "metadata": {
    "collapsed": false,
    "pycharm": {
     "name": "#%% md\n"
    }
   }
  },
  {
   "cell_type": "code",
   "execution_count": null,
   "outputs": [],
   "source": [
    "huge_img = 'P1922.png'\n",
    "\n",
    "result = inference_detector_by_patches(baseline_model, huge_img, [1024],\n",
    "                                       [500], [0.5, 1.0, 1.5, 2.0, 2.5, 3.0], 0.1)\n",
    "# show the results\n",
    "show_result_pyplot(\n",
    "    baseline_model,\n",
    "    huge_img,\n",
    "    result,\n",
    "    palette='dota',\n",
    "    score_thr=0.3)"
   ],
   "metadata": {
    "collapsed": false,
    "pycharm": {
     "name": "#%%\n"
    }
   }
  },
  {
   "cell_type": "markdown",
   "source": [
    "## OAFD-Small 单图推理"
   ],
   "metadata": {
    "collapsed": false,
    "pycharm": {
     "name": "#%% md\n"
    }
   }
  },
  {
   "cell_type": "code",
   "execution_count": null,
   "outputs": [],
   "source": [
    "img = 'demo/demo.jpg'\n",
    "\n",
    "result = inference_detector(small_model, img)\n",
    "# show the results\n",
    "show_result_pyplot(\n",
    "    small_model,\n",
    "    img,\n",
    "    result,\n",
    "    palette='dota',\n",
    "    score_thr=0.3)"
   ],
   "metadata": {
    "collapsed": false,
    "pycharm": {
     "name": "#%%\n"
    }
   }
  },
  {
   "cell_type": "markdown",
   "source": [
    "## OAFD-Small 大图多尺度推理"
   ],
   "metadata": {
    "collapsed": false,
    "pycharm": {
     "name": "#%% md\n"
    }
   }
  },
  {
   "cell_type": "code",
   "execution_count": null,
   "outputs": [],
   "source": [
    "huge_img = 'P1922.png'\n",
    "\n",
    "result = inference_detector_by_patches(small_model, huge_img, [1024],\n",
    "                                       [500], [0.5, 1.0, 1.5, 2.0, 2.5, 3.0], 0.1)\n",
    "# show the results\n",
    "show_result_pyplot(\n",
    "    small_model,\n",
    "    huge_img,\n",
    "    result,\n",
    "    palette='dota',\n",
    "    score_thr=0.3)"
   ],
   "metadata": {
    "collapsed": false,
    "pycharm": {
     "name": "#%%\n"
    }
   }
  }
 ],
 "metadata": {
  "kernelspec": {
   "display_name": "Python 3",
   "language": "python",
   "name": "python3"
  },
  "language_info": {
   "codemirror_mode": {
    "name": "ipython",
    "version": 2
   },
   "file_extension": ".py",
   "mimetype": "text/x-python",
   "name": "python",
   "nbconvert_exporter": "python",
   "pygments_lexer": "ipython2",
   "version": "2.7.6"
  }
 },
 "nbformat": 4,
 "nbformat_minor": 0
}
